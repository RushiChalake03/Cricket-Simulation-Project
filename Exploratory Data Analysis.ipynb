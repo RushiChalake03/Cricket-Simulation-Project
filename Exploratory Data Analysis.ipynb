{
 "cells": [
  {
   "cell_type": "markdown",
   "id": "87b47519",
   "metadata": {},
   "source": [
    "# EDA"
   ]
  },
  {
   "cell_type": "markdown",
   "id": "c2e616bf",
   "metadata": {},
   "source": [
    "### 12-02-2022"
   ]
  },
  {
   "cell_type": "code",
   "execution_count": 1,
   "id": "e37b39fa",
   "metadata": {},
   "outputs": [],
   "source": [
    "import pandas as pd\n",
    "\n",
    "data = pd.read_csv(\"E:\\CRICELEVEN\\Data Files\\Cricsheet Scrapped Data\\Three Main Details Files\\ODI_Match_Details.csv\")"
   ]
  },
  {
   "cell_type": "code",
   "execution_count": 3,
   "id": "7af4ab4f",
   "metadata": {},
   "outputs": [
    {
     "data": {
      "text/html": [
       "<div>\n",
       "<style scoped>\n",
       "    .dataframe tbody tr th:only-of-type {\n",
       "        vertical-align: middle;\n",
       "    }\n",
       "\n",
       "    .dataframe tbody tr th {\n",
       "        vertical-align: top;\n",
       "    }\n",
       "\n",
       "    .dataframe thead th {\n",
       "        text-align: right;\n",
       "    }\n",
       "</style>\n",
       "<table border=\"1\" class=\"dataframe\">\n",
       "  <thead>\n",
       "    <tr style=\"text-align: right;\">\n",
       "      <th></th>\n",
       "      <th>Unnamed: 0</th>\n",
       "      <th>info__match_type</th>\n",
       "      <th>info__match_type_number</th>\n",
       "      <th>info__event__name</th>\n",
       "      <th>info__event__match_number</th>\n",
       "      <th>info__city</th>\n",
       "      <th>info__venue</th>\n",
       "      <th>info__dates__-</th>\n",
       "      <th>info__season</th>\n",
       "      <th>Opposition_team</th>\n",
       "      <th>...</th>\n",
       "      <th>Opposition_player_7</th>\n",
       "      <th>Opposition_player_8</th>\n",
       "      <th>Opposition_player_9</th>\n",
       "      <th>Opposition_player_10</th>\n",
       "      <th>Opposition_player_11</th>\n",
       "      <th>info__officials__match_referees__-</th>\n",
       "      <th>info__officials__reserve_umpires__-</th>\n",
       "      <th>info__officials__tv_umpires__-</th>\n",
       "      <th>info__officials__umpires_1</th>\n",
       "      <th>info__officials__umpires_2</th>\n",
       "    </tr>\n",
       "  </thead>\n",
       "  <tbody>\n",
       "    <tr>\n",
       "      <th>0</th>\n",
       "      <td>0</td>\n",
       "      <td>ODI</td>\n",
       "      <td>3531.0</td>\n",
       "      <td>West Indies in India ODI Series</td>\n",
       "      <td>1.0</td>\n",
       "      <td>Kochi</td>\n",
       "      <td>Nehru Stadium</td>\n",
       "      <td>2014-10-08</td>\n",
       "      <td>2014/15</td>\n",
       "      <td>West Indies</td>\n",
       "      <td>...</td>\n",
       "      <td>AD Russell</td>\n",
       "      <td>DJG Sammy</td>\n",
       "      <td>SJ Benn</td>\n",
       "      <td>R Rampaul</td>\n",
       "      <td>JE Taylor</td>\n",
       "      <td>JJ Crowe</td>\n",
       "      <td>CK Nandan</td>\n",
       "      <td>C Shamshuddin</td>\n",
       "      <td>IJ Gould</td>\n",
       "      <td>S Ravi</td>\n",
       "    </tr>\n",
       "    <tr>\n",
       "      <th>1</th>\n",
       "      <td>1</td>\n",
       "      <td>ODI</td>\n",
       "      <td>3533.0</td>\n",
       "      <td>West Indies in India ODI Series</td>\n",
       "      <td>2.0</td>\n",
       "      <td>Delhi</td>\n",
       "      <td>Feroz Shah Kotla</td>\n",
       "      <td>2014-10-11</td>\n",
       "      <td>2014/15</td>\n",
       "      <td>West Indies</td>\n",
       "      <td>...</td>\n",
       "      <td>AD Russell</td>\n",
       "      <td>DJG Sammy</td>\n",
       "      <td>R Rampaul</td>\n",
       "      <td>JE Taylor</td>\n",
       "      <td>SJ Benn</td>\n",
       "      <td>JJ Crowe</td>\n",
       "      <td>RM Deshpande</td>\n",
       "      <td>C Shamshuddin</td>\n",
       "      <td>IJ Gould</td>\n",
       "      <td>S Ravi</td>\n",
       "    </tr>\n",
       "    <tr>\n",
       "      <th>2</th>\n",
       "      <td>2</td>\n",
       "      <td>ODI</td>\n",
       "      <td>3535.0</td>\n",
       "      <td>West Indies in India ODI Series</td>\n",
       "      <td>4.0</td>\n",
       "      <td>Dharmasala</td>\n",
       "      <td>Himachal Pradesh Cricket Association Stadium</td>\n",
       "      <td>2014-10-17</td>\n",
       "      <td>2014/15</td>\n",
       "      <td>West Indies</td>\n",
       "      <td>...</td>\n",
       "      <td>DJG Sammy</td>\n",
       "      <td>AD Russell</td>\n",
       "      <td>JO Holder</td>\n",
       "      <td>JE Taylor</td>\n",
       "      <td>SJ Benn</td>\n",
       "      <td>JJ Crowe</td>\n",
       "      <td>Nitin Menon</td>\n",
       "      <td>AK Chaudhary</td>\n",
       "      <td>IJ Gould</td>\n",
       "      <td>VA Kulkarni</td>\n",
       "    </tr>\n",
       "    <tr>\n",
       "      <th>3</th>\n",
       "      <td>3</td>\n",
       "      <td>ODI</td>\n",
       "      <td>3539.0</td>\n",
       "      <td>Sri Lanka in India ODI Series</td>\n",
       "      <td>1.0</td>\n",
       "      <td>Cuttack</td>\n",
       "      <td>Barabati Stadium</td>\n",
       "      <td>2014-11-02</td>\n",
       "      <td>2014/15</td>\n",
       "      <td>Sri Lanka</td>\n",
       "      <td>...</td>\n",
       "      <td>SMA Priyanjan</td>\n",
       "      <td>NLTC Perera</td>\n",
       "      <td>S Randiv</td>\n",
       "      <td>KTGD Prasad</td>\n",
       "      <td>PLS Gamage</td>\n",
       "      <td>DC Boon</td>\n",
       "      <td>PG Pathak</td>\n",
       "      <td>C Shamshuddin</td>\n",
       "      <td>VA Kulkarni</td>\n",
       "      <td>BNJ Oxenford</td>\n",
       "    </tr>\n",
       "    <tr>\n",
       "      <th>4</th>\n",
       "      <td>4</td>\n",
       "      <td>ODI</td>\n",
       "      <td>3540.0</td>\n",
       "      <td>Sri Lanka in India ODI Series</td>\n",
       "      <td>2.0</td>\n",
       "      <td>Ahmedabad</td>\n",
       "      <td>Sardar Patel Stadium, Motera</td>\n",
       "      <td>2014-11-06</td>\n",
       "      <td>2014/15</td>\n",
       "      <td>Sri Lanka</td>\n",
       "      <td>...</td>\n",
       "      <td>SMA Priyanjan</td>\n",
       "      <td>NLTC Perera</td>\n",
       "      <td>S Randiv</td>\n",
       "      <td>KTGD Prasad</td>\n",
       "      <td>PLS Gamage</td>\n",
       "      <td>DC Boon</td>\n",
       "      <td>K Srinath</td>\n",
       "      <td>C Shamshuddin</td>\n",
       "      <td>VA Kulkarni</td>\n",
       "      <td>BNJ Oxenford</td>\n",
       "    </tr>\n",
       "  </tbody>\n",
       "</table>\n",
       "<p>5 rows × 43 columns</p>\n",
       "</div>"
      ],
      "text/plain": [
       "   Unnamed: 0 info__match_type  info__match_type_number  \\\n",
       "0           0              ODI                   3531.0   \n",
       "1           1              ODI                   3533.0   \n",
       "2           2              ODI                   3535.0   \n",
       "3           3              ODI                   3539.0   \n",
       "4           4              ODI                   3540.0   \n",
       "\n",
       "                 info__event__name info__event__match_number  info__city  \\\n",
       "0  West Indies in India ODI Series                       1.0       Kochi   \n",
       "1  West Indies in India ODI Series                       2.0       Delhi   \n",
       "2  West Indies in India ODI Series                       4.0  Dharmasala   \n",
       "3    Sri Lanka in India ODI Series                       1.0     Cuttack   \n",
       "4    Sri Lanka in India ODI Series                       2.0   Ahmedabad   \n",
       "\n",
       "                                    info__venue info__dates__- info__season  \\\n",
       "0                                 Nehru Stadium     2014-10-08      2014/15   \n",
       "1                              Feroz Shah Kotla     2014-10-11      2014/15   \n",
       "2  Himachal Pradesh Cricket Association Stadium     2014-10-17      2014/15   \n",
       "3                              Barabati Stadium     2014-11-02      2014/15   \n",
       "4                  Sardar Patel Stadium, Motera     2014-11-06      2014/15   \n",
       "\n",
       "  Opposition_team  ... Opposition_player_7 Opposition_player_8  \\\n",
       "0     West Indies  ...          AD Russell           DJG Sammy   \n",
       "1     West Indies  ...          AD Russell           DJG Sammy   \n",
       "2     West Indies  ...           DJG Sammy          AD Russell   \n",
       "3       Sri Lanka  ...       SMA Priyanjan         NLTC Perera   \n",
       "4       Sri Lanka  ...       SMA Priyanjan         NLTC Perera   \n",
       "\n",
       "  Opposition_player_9 Opposition_player_10  Opposition_player_11  \\\n",
       "0             SJ Benn            R Rampaul             JE Taylor   \n",
       "1           R Rampaul            JE Taylor               SJ Benn   \n",
       "2           JO Holder            JE Taylor               SJ Benn   \n",
       "3            S Randiv          KTGD Prasad            PLS Gamage   \n",
       "4            S Randiv          KTGD Prasad            PLS Gamage   \n",
       "\n",
       "  info__officials__match_referees__- info__officials__reserve_umpires__-  \\\n",
       "0                           JJ Crowe                           CK Nandan   \n",
       "1                           JJ Crowe                        RM Deshpande   \n",
       "2                           JJ Crowe                         Nitin Menon   \n",
       "3                            DC Boon                           PG Pathak   \n",
       "4                            DC Boon                           K Srinath   \n",
       "\n",
       "  info__officials__tv_umpires__- info__officials__umpires_1  \\\n",
       "0                  C Shamshuddin                   IJ Gould   \n",
       "1                  C Shamshuddin                   IJ Gould   \n",
       "2                   AK Chaudhary                   IJ Gould   \n",
       "3                  C Shamshuddin                VA Kulkarni   \n",
       "4                  C Shamshuddin                VA Kulkarni   \n",
       "\n",
       "  info__officials__umpires_2  \n",
       "0                     S Ravi  \n",
       "1                     S Ravi  \n",
       "2                VA Kulkarni  \n",
       "3               BNJ Oxenford  \n",
       "4               BNJ Oxenford  \n",
       "\n",
       "[5 rows x 43 columns]"
      ]
     },
     "execution_count": 3,
     "metadata": {},
     "output_type": "execute_result"
    }
   ],
   "source": [
    "data.head()"
   ]
  },
  {
   "cell_type": "code",
   "execution_count": 5,
   "id": "d7951266",
   "metadata": {},
   "outputs": [
    {
     "data": {
      "text/plain": [
       "(128, 43)"
      ]
     },
     "execution_count": 5,
     "metadata": {},
     "output_type": "execute_result"
    }
   ],
   "source": [
    "data.shape"
   ]
  },
  {
   "cell_type": "code",
   "execution_count": 7,
   "id": "b4b482b1",
   "metadata": {},
   "outputs": [
    {
     "data": {
      "text/plain": [
       "Index(['Unnamed: 0', 'info__match_type', 'info__match_type_number',\n",
       "       'info__event__name', 'info__event__match_number', 'info__city',\n",
       "       'info__venue', 'info__dates__-', 'info__season', 'Opposition_team',\n",
       "       'info__toss__winner', 'info__toss__decision', 'info__outcome__winner',\n",
       "       'info__outcome__by__runs', 'info__outcome__by__wickets',\n",
       "       'info__player_of_match__-', 'info__players__India_1',\n",
       "       'info__players__India_2', 'info__players__India_3',\n",
       "       'info__players__India_4', 'info__players__India_5',\n",
       "       'info__players__India_6', 'info__players__India_7',\n",
       "       'info__players__India_8', 'info__players__India_9',\n",
       "       'info__players__India_10', 'info__players__India_11',\n",
       "       'Opposition_player_1', 'Opposition_player_2', 'Opposition_player_3',\n",
       "       'Opposition_player_4', 'Opposition_player_5', 'Opposition_player_6',\n",
       "       'Opposition_player_7', 'Opposition_player_8', 'Opposition_player_9',\n",
       "       'Opposition_player_10', 'Opposition_player_11',\n",
       "       'info__officials__match_referees__-',\n",
       "       'info__officials__reserve_umpires__-', 'info__officials__tv_umpires__-',\n",
       "       'info__officials__umpires_1', 'info__officials__umpires_2'],\n",
       "      dtype='object')"
      ]
     },
     "execution_count": 7,
     "metadata": {},
     "output_type": "execute_result"
    }
   ],
   "source": [
    "data.columns"
   ]
  },
  {
   "cell_type": "code",
   "execution_count": 8,
   "id": "2764ca2d",
   "metadata": {},
   "outputs": [
    {
     "data": {
      "text/plain": [
       "Unnamed: 0                             False\n",
       "info__match_type                       False\n",
       "info__match_type_number                False\n",
       "info__event__name                      False\n",
       "info__event__match_number              False\n",
       "info__city                             False\n",
       "info__venue                            False\n",
       "info__dates__-                         False\n",
       "info__season                           False\n",
       "Opposition_team                        False\n",
       "info__toss__winner                     False\n",
       "info__toss__decision                   False\n",
       "info__outcome__winner                  False\n",
       "info__outcome__by__runs                 True\n",
       "info__outcome__by__wickets              True\n",
       "info__player_of_match__-               False\n",
       "info__players__India_1                 False\n",
       "info__players__India_2                 False\n",
       "info__players__India_3                 False\n",
       "info__players__India_4                 False\n",
       "info__players__India_5                 False\n",
       "info__players__India_6                 False\n",
       "info__players__India_7                 False\n",
       "info__players__India_8                 False\n",
       "info__players__India_9                 False\n",
       "info__players__India_10                False\n",
       "info__players__India_11                False\n",
       "Opposition_player_1                    False\n",
       "Opposition_player_2                    False\n",
       "Opposition_player_3                    False\n",
       "Opposition_player_4                    False\n",
       "Opposition_player_5                    False\n",
       "Opposition_player_6                    False\n",
       "Opposition_player_7                    False\n",
       "Opposition_player_8                    False\n",
       "Opposition_player_9                    False\n",
       "Opposition_player_10                   False\n",
       "Opposition_player_11                   False\n",
       "info__officials__match_referees__-     False\n",
       "info__officials__reserve_umpires__-    False\n",
       "info__officials__tv_umpires__-         False\n",
       "info__officials__umpires_1             False\n",
       "info__officials__umpires_2             False\n",
       "dtype: bool"
      ]
     },
     "execution_count": 8,
     "metadata": {},
     "output_type": "execute_result"
    }
   ],
   "source": [
    "data.isna().any()"
   ]
  },
  {
   "cell_type": "code",
   "execution_count": 9,
   "id": "670dcac2",
   "metadata": {},
   "outputs": [
    {
     "data": {
      "text/html": [
       "<div>\n",
       "<style scoped>\n",
       "    .dataframe tbody tr th:only-of-type {\n",
       "        vertical-align: middle;\n",
       "    }\n",
       "\n",
       "    .dataframe tbody tr th {\n",
       "        vertical-align: top;\n",
       "    }\n",
       "\n",
       "    .dataframe thead th {\n",
       "        text-align: right;\n",
       "    }\n",
       "</style>\n",
       "<table border=\"1\" class=\"dataframe\">\n",
       "  <thead>\n",
       "    <tr style=\"text-align: right;\">\n",
       "      <th></th>\n",
       "      <th>Unnamed: 0</th>\n",
       "      <th>info__match_type_number</th>\n",
       "      <th>info__outcome__by__wickets</th>\n",
       "    </tr>\n",
       "  </thead>\n",
       "  <tbody>\n",
       "    <tr>\n",
       "      <th>count</th>\n",
       "      <td>128.000000</td>\n",
       "      <td>128.000000</td>\n",
       "      <td>63.000000</td>\n",
       "    </tr>\n",
       "    <tr>\n",
       "      <th>mean</th>\n",
       "      <td>63.500000</td>\n",
       "      <td>3949.226562</td>\n",
       "      <td>6.444444</td>\n",
       "    </tr>\n",
       "    <tr>\n",
       "      <th>std</th>\n",
       "      <td>37.094474</td>\n",
       "      <td>218.392308</td>\n",
       "      <td>1.940883</td>\n",
       "    </tr>\n",
       "    <tr>\n",
       "      <th>min</th>\n",
       "      <td>0.000000</td>\n",
       "      <td>3531.000000</td>\n",
       "      <td>3.000000</td>\n",
       "    </tr>\n",
       "    <tr>\n",
       "      <th>25%</th>\n",
       "      <td>31.750000</td>\n",
       "      <td>3792.000000</td>\n",
       "      <td>5.500000</td>\n",
       "    </tr>\n",
       "    <tr>\n",
       "      <th>50%</th>\n",
       "      <td>63.500000</td>\n",
       "      <td>3941.500000</td>\n",
       "      <td>7.000000</td>\n",
       "    </tr>\n",
       "    <tr>\n",
       "      <th>75%</th>\n",
       "      <td>95.250000</td>\n",
       "      <td>4109.500000</td>\n",
       "      <td>8.000000</td>\n",
       "    </tr>\n",
       "    <tr>\n",
       "      <th>max</th>\n",
       "      <td>127.000000</td>\n",
       "      <td>4312.000000</td>\n",
       "      <td>10.000000</td>\n",
       "    </tr>\n",
       "  </tbody>\n",
       "</table>\n",
       "</div>"
      ],
      "text/plain": [
       "       Unnamed: 0  info__match_type_number  info__outcome__by__wickets\n",
       "count  128.000000               128.000000                   63.000000\n",
       "mean    63.500000              3949.226562                    6.444444\n",
       "std     37.094474               218.392308                    1.940883\n",
       "min      0.000000              3531.000000                    3.000000\n",
       "25%     31.750000              3792.000000                    5.500000\n",
       "50%     63.500000              3941.500000                    7.000000\n",
       "75%     95.250000              4109.500000                    8.000000\n",
       "max    127.000000              4312.000000                   10.000000"
      ]
     },
     "execution_count": 9,
     "metadata": {},
     "output_type": "execute_result"
    }
   ],
   "source": [
    "data.describe()"
   ]
  },
  {
   "cell_type": "code",
   "execution_count": 10,
   "id": "994a3135",
   "metadata": {},
   "outputs": [
    {
     "data": {
      "text/plain": [
       "Unnamed: 0                                                       30\n",
       "info__match_type                                                ODI\n",
       "info__match_type_number                                      3746.0\n",
       "info__event__name                      India in Zimbabwe ODI Series\n",
       "info__event__match_number                                       3.0\n",
       "info__city                                            Not available\n",
       "info__venue                                      Harare Sports Club\n",
       "info__dates__-                                           2016-06-15\n",
       "info__season                                                 2016.0\n",
       "Opposition_team                                            Zimbabwe\n",
       "info__toss__winner                                         Zimbabwe\n",
       "info__toss__decision                                            bat\n",
       "info__outcome__winner                                         India\n",
       "info__outcome__by__runs                                         NaN\n",
       "info__outcome__by__wickets                                     10.0\n",
       "info__player_of_match__-                                   KL Rahul\n",
       "info__players__India_1                                     KL Rahul\n",
       "info__players__India_2                                     FY Fazal\n",
       "info__players__India_3                                    MK Pandey\n",
       "info__players__India_4                                    AT Rayudu\n",
       "info__players__India_5                                    KM Jadhav\n",
       "info__players__India_6                                     MS Dhoni\n",
       "info__players__India_7                                     AR Patel\n",
       "info__players__India_8                                  DS Kulkarni\n",
       "info__players__India_9                                    JJ Bumrah\n",
       "info__players__India_10                                     BB Sran\n",
       "info__players__India_11                                   YS Chahal\n",
       "Opposition_player_1                                     H Masakadza\n",
       "Opposition_player_2                                    CJ Chibhabha\n",
       "Opposition_player_3                                       V Sibanda\n",
       "Opposition_player_4                                        T Maruma\n",
       "Opposition_player_5                                       MN Waller\n",
       "Opposition_player_6                                    E Chigumbura\n",
       "Opposition_player_7                                     R Mutumbami\n",
       "Opposition_player_8                                       AG Cremer\n",
       "Opposition_player_9                                       N Madziva\n",
       "Opposition_player_10                                     T Mupariwa\n",
       "Opposition_player_11                                    DT Tiripano\n",
       "info__officials__match_referees__-                    RB Richardson\n",
       "info__officials__reserve_umpires__-                      O Chirombe\n",
       "info__officials__tv_umpires__-                             L Rusere\n",
       "info__officials__umpires_1                                 IJ Gould\n",
       "info__officials__umpires_2                              TJ Matibiri\n",
       "Name: 30, dtype: object"
      ]
     },
     "execution_count": 10,
     "metadata": {},
     "output_type": "execute_result"
    }
   ],
   "source": [
    "data.iloc[data[\"info__outcome__by__wickets\"].idxmax()]"
   ]
  },
  {
   "cell_type": "code",
   "execution_count": 20,
   "id": "c9066ad4",
   "metadata": {},
   "outputs": [
    {
     "name": "stderr",
     "output_type": "stream",
     "text": [
      "<ipython-input-20-777540ba7658>:4: SettingWithCopyWarning: \n",
      "A value is trying to be set on a copy of a slice from a DataFrame\n",
      "\n",
      "See the caveats in the documentation: https://pandas.pydata.org/pandas-docs/stable/user_guide/indexing.html#returning-a-view-versus-a-copy\n",
      "  data.info__outcome__by__runs[i] = np.nan\n"
     ]
    }
   ],
   "source": [
    "import numpy as np\n",
    "for i in range(0,len(data.info__outcome__by__runs)):\n",
    "    if data.info__outcome__by__runs[i] == \"Not available\" :\n",
    "        data.info__outcome__by__runs[i] = np.nan\n",
    "    else:\n",
    "        pass\n",
    "\n",
    "    \n",
    "    "
   ]
  },
  {
   "cell_type": "code",
   "execution_count": 28,
   "id": "303dace3",
   "metadata": {},
   "outputs": [
    {
     "data": {
      "text/plain": [
       "Unnamed: 0                                                              7\n",
       "info__match_type                                                      ODI\n",
       "info__match_type_number                                            3547.0\n",
       "info__event__name                           Sri Lanka in India ODI Series\n",
       "info__event__match_number                                             5.0\n",
       "info__city                                                         Ranchi\n",
       "info__venue                            JSCA International Stadium Complex\n",
       "info__dates__-                                                 2014-11-16\n",
       "info__season                                                      2014/15\n",
       "Opposition_team                                                 Sri Lanka\n",
       "info__toss__winner                                              Sri Lanka\n",
       "info__toss__decision                                                  bat\n",
       "info__outcome__winner                                               India\n",
       "info__outcome__by__runs                                               NaN\n",
       "info__outcome__by__wickets                                            3.0\n",
       "info__player_of_match__-                                       AD Mathews\n",
       "info__players__India_1                                          AM Rahane\n",
       "info__players__India_2                                          RG Sharma\n",
       "info__players__India_3                                          AT Rayudu\n",
       "info__players__India_4                                            V Kohli\n",
       "info__players__India_5                                         RV Uthappa\n",
       "info__players__India_6                                          KM Jadhav\n",
       "info__players__India_7                                          STR Binny\n",
       "info__players__India_8                                           R Ashwin\n",
       "info__players__India_9                                           AR Patel\n",
       "info__players__India_10                                         KV Sharma\n",
       "info__players__India_11                                       DS Kulkarni\n",
       "Opposition_player_1                                           N Dickwella\n",
       "Opposition_player_2                                            TM Dilshan\n",
       "Opposition_player_3                                          LD Chandimal\n",
       "Opposition_player_4                                      DPMD Jayawardene\n",
       "Opposition_player_5                                            AD Mathews\n",
       "Opposition_player_6                                       HDRL Thirimanne\n",
       "Opposition_player_7                                           NLTC Perera\n",
       "Opposition_player_8                                            S Prasanna\n",
       "Opposition_player_9                                            BAW Mendis\n",
       "Opposition_player_10                                           RMS Eranga\n",
       "Opposition_player_11                                           PLS Gamage\n",
       "info__officials__match_referees__-                                DC Boon\n",
       "info__officials__reserve_umpires__-                        A Nand Kishore\n",
       "info__officials__tv_umpires__-                               AK Chaudhary\n",
       "info__officials__umpires_1                                   BNJ Oxenford\n",
       "info__officials__umpires_2                                         S Ravi\n",
       "Name: 7, dtype: object"
      ]
     },
     "execution_count": 28,
     "metadata": {},
     "output_type": "execute_result"
    }
   ],
   "source": [
    "data.iloc[data[\"info__outcome__by__wickets\"].idxmin()]"
   ]
  },
  {
   "cell_type": "code",
   "execution_count": 30,
   "id": "356d99eb",
   "metadata": {},
   "outputs": [],
   "source": [
    "import matplotlib.pyplot as plt\n",
    "import seaborn as sns\n",
    "%matplotlib inline"
   ]
  },
  {
   "cell_type": "code",
   "execution_count": 34,
   "id": "cf601c1c",
   "metadata": {},
   "outputs": [
    {
     "data": {
      "image/png": "[encoded data removed]",
      "text/plain": [
       "<Figure size 2160x720 with 1 Axes>"
      ]
     },
     "metadata": {
      "needs_background": "light"
     },
     "output_type": "display_data"
    }
   ],
   "source": [
    "fig_dims = (30,10)\n",
    "fig, ax = plt.subplots(figsize = fig_dims)\n",
    "sns.countplot(x=\"Opposition_team\" , ax=ax, data=data)\n",
    "plt.show()"
   ]
  },
  {
   "cell_type": "code",
   "execution_count": 35,
   "id": "57752855",
   "metadata": {},
   "outputs": [
    {
     "data": {
      "text/plain": [
       "<AxesSubplot:xlabel='Opposition_team'>"
      ]
     },
     "execution_count": 35,
     "metadata": {},
     "output_type": "execute_result"
    },
    {
     "data": {
      "image/png": "[encoded data removed]",
      "text/plain": [
       "<Figure size 432x288 with 1 Axes>"
      ]
     },
     "metadata": {
      "needs_background": "light"
     },
     "output_type": "display_data"
    }
   ],
   "source": [
    "data1 = data.Opposition_team.value_counts()\n",
    "sns.barplot(y=data1.index, x= data1)\n"
   ]
  },
  {
   "cell_type": "code",
   "execution_count": 42,
   "id": "9cdc489f",
   "metadata": {},
   "outputs": [
    {
     "data": {
      "text/plain": [
       "(54, 43)"
      ]
     },
     "execution_count": 42,
     "metadata": {},
     "output_type": "execute_result"
    }
   ],
   "source": [
    "data2 = data[data[\"info__toss__winner\"]== \"India\"].copy()\n",
    "data2.shape"
   ]
  },
  {
   "cell_type": "code",
   "execution_count": 43,
   "id": "fc2e130b",
   "metadata": {},
   "outputs": [
    {
     "data": {
      "text/plain": [
       "False    18\n",
       "True     36\n",
       "dtype: int64"
      ]
     },
     "execution_count": 43,
     "metadata": {},
     "output_type": "execute_result"
    }
   ],
   "source": [
    "prb_win = data2[\"info__toss__winner\"] == data2[\"info__outcome__winner\"]\n",
    "prb_win.groupby(prb_win).size()"
   ]
  },
  {
   "cell_type": "code",
   "execution_count": 44,
   "id": "987f416a",
   "metadata": {},
   "outputs": [
    {
     "name": "stderr",
     "output_type": "stream",
     "text": [
      "C:\\Users\\dell\\anaconda3\\lib\\site-packages\\seaborn\\_decorators.py:36: FutureWarning: Pass the following variable as a keyword arg: x. From version 0.12, the only valid positional argument will be `data`, and passing other arguments without an explicit keyword will result in an error or misinterpretation.\n",
      "  warnings.warn(\n"
     ]
    },
    {
     "data": {
      "text/plain": [
       "<AxesSubplot:ylabel='count'>"
      ]
     },
     "execution_count": 44,
     "metadata": {},
     "output_type": "execute_result"
    },
    {
     "data": {
      "image/png": "[encoded data removed]",
      "text/plain": [
       "<Figure size 432x288 with 1 Axes>"
      ]
     },
     "metadata": {
      "needs_background": "light"
     },
     "output_type": "display_data"
    }
   ],
   "source": [
    "sns.countplot(prb_win)"
   ]
  },
  {
   "cell_type": "code",
   "execution_count": 67,
   "id": "91238af2",
   "metadata": {},
   "outputs": [
    {
     "name": "stderr",
     "output_type": "stream",
     "text": [
      "<ipython-input-67-f1522823d58b>:6: SettingWithCopyWarning: \n",
      "A value is trying to be set on a copy of a slice from a DataFrame\n",
      "\n",
      "See the caveats in the documentation: https://pandas.pydata.org/pandas-docs/stable/user_guide/indexing.html#returning-a-view-versus-a-copy\n",
      "  data[\"Year\"][i] = year\n"
     ]
    }
   ],
   "source": [
    "data[\"Year\"] = 0 \n",
    "#data.info__dates__-[-4:]\n",
    "for i in range(0,len(data[\"Year\"])):\n",
    "    date = data[\"info__dates__-\"][i]\n",
    "    year = date[0:4]\n",
    "    data[\"Year\"][i] = year\n",
    "    "
   ]
  },
  {
   "cell_type": "code",
   "execution_count": 71,
   "id": "65c7cfda",
   "metadata": {},
   "outputs": [
    {
     "data": {
      "text/plain": [
       "Year  info__outcome__winner\n",
       "2014  India                     7\n",
       "      West Indies               1\n",
       "2015  India                     6\n",
       "      South Africa              3\n",
       "      Bangladesh                2\n",
       "      England                   2\n",
       "      Australia                 1\n",
       "      no result                 1\n",
       "2016  India                     7\n",
       "      Australia                 4\n",
       "      New Zealand               2\n",
       "2017  India                    21\n",
       "      Sri Lanka                 2\n",
       "      Australia                 1\n",
       "      England                   1\n",
       "      New Zealand               1\n",
       "      Pakistan                  1\n",
       "      West Indies               1\n",
       "      no result                 1\n",
       "2018  India                    14\n",
       "      England                   2\n",
       "      tie                       2\n",
       "      South Africa              1\n",
       "      West Indies               1\n",
       "2019  India                    15\n",
       "      Australia                 4\n",
       "      England                   1\n",
       "      New Zealand               1\n",
       "      India                     4\n",
       "      West Indies               1\n",
       "      no result                 1\n",
       "2020  Australia                 3\n",
       "      India                     3\n",
       "      New Zealand               3\n",
       "2021  India                     4\n",
       "      England                   1\n",
       "      Sri Lanka                 1\n",
       "Not   New Zealand               1\n",
       "Name: info__outcome__winner, dtype: int64"
      ]
     },
     "execution_count": 71,
     "metadata": {},
     "output_type": "execute_result"
    }
   ],
   "source": [
    "data.groupby(\"Year\")[\"info__outcome__winner\"].value_counts()"
   ]
  },
  {
   "cell_type": "code",
   "execution_count": 72,
   "id": "a9f3242d",
   "metadata": {},
   "outputs": [
    {
     "data": {
      "text/plain": [
       "bat      67\n",
       "field    61\n",
       "Name: info__toss__decision, dtype: int64"
      ]
     },
     "execution_count": 72,
     "metadata": {},
     "output_type": "execute_result"
    }
   ],
   "source": [
    "data.info__toss__decision.value_counts()\n"
   ]
  },
  {
   "cell_type": "code",
   "execution_count": 76,
   "id": "1f1f9b1d",
   "metadata": {},
   "outputs": [
    {
     "data": {
      "text/plain": [
       "<AxesSubplot:xlabel='info__city'>"
      ]
     },
     "execution_count": 76,
     "metadata": {},
     "output_type": "execute_result"
    },
    {
     "data": {
      "image/png": "[encoded data removed]",
      "text/plain": [
       "<Figure size 432x288 with 1 Axes>"
      ]
     },
     "metadata": {
      "needs_background": "light"
     },
     "output_type": "display_data"
    }
   ],
   "source": [
    "data3 = data.info__city.value_counts()\n",
    "sns.barplot(y=data3.index, x= data3)"
   ]
  },
  {
   "cell_type": "code",
   "execution_count": 5,
   "id": "072b171c",
   "metadata": {},
   "outputs": [
    {
     "data": {
      "text/plain": [
       "<AxesSubplot:xlabel='info__city'>"
      ]
     },
     "execution_count": 5,
     "metadata": {},
     "output_type": "execute_result"
    },
    {
     "data": {
      "image/png": "[encoded data removed]",
      "text/plain": [
       "<Figure size 1440x720 with 1 Axes>"
      ]
     },
     "metadata": {
      "needs_background": "light"
     },
     "output_type": "display_data"
    }
   ],
   "source": [
    "import matplotlib.pyplot as plt\n",
    "import seaborn as sns\n",
    "%matplotlib inline\n",
    "\n",
    "\n",
    "plt.rcParams[\"figure.figsize\"] = (20,10)\n",
    "data3 = data[data.info__city!= \"Not available\"].copy()\n",
    "data4 = data3.info__city.value_counts()\n",
    "sns.barplot(y=data4.index, x= data4)"
   ]
  }
 ],
 "metadata": {
  "kernelspec": {
   "display_name": "Python 3",
   "language": "python",
   "name": "python3"
  },
  "language_info": {
   "codemirror_mode": {
    "name": "ipython",
    "version": 3
   },
   "file_extension": ".py",
   "mimetype": "text/x-python",
   "name": "python",
   "nbconvert_exporter": "python",
   "pygments_lexer": "ipython3",
   "version": "3.8.8"
  }
 },
 "nbformat": 4,
 "nbformat_minor": 5
}
