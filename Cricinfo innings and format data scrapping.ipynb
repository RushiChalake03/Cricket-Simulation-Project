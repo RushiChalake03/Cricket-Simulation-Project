{
 "cells": [
  {
   "cell_type": "markdown",
   "id": "77253f99",
   "metadata": {},
   "source": [
    "# ODI "
   ]
  },
  {
   "cell_type": "markdown",
   "id": "b7d1bfc6",
   "metadata": {},
   "source": [
    "## Batting Records"
   ]
  },
  {
   "cell_type": "markdown",
   "id": "b4f0b828",
   "metadata": {},
   "source": [
    " ### 1) Overall Data"
   ]
  },
  {
   "cell_type": "code",
   "execution_count": 1,
   "id": "b7c89785",
   "metadata": {},
   "outputs": [
    {
     "data": {
      "text/html": [
       "<div>\n",
       "<style scoped>\n",
       "    .dataframe tbody tr th:only-of-type {\n",
       "        vertical-align: middle;\n",
       "    }\n",
       "\n",
       "    .dataframe tbody tr th {\n",
       "        vertical-align: top;\n",
       "    }\n",
       "\n",
       "    .dataframe thead th {\n",
       "        text-align: right;\n",
       "    }\n",
       "</style>\n",
       "<table border=\"1\" class=\"dataframe\">\n",
       "  <thead>\n",
       "    <tr style=\"text-align: right;\">\n",
       "      <th></th>\n",
       "      <th>Player</th>\n",
       "      <th>Span</th>\n",
       "      <th>Mat</th>\n",
       "      <th>Inns</th>\n",
       "      <th>NO</th>\n",
       "      <th>Runs</th>\n",
       "      <th>HS</th>\n",
       "      <th>Ave</th>\n",
       "      <th>BF</th>\n",
       "      <th>SR</th>\n",
       "      <th>100</th>\n",
       "      <th>50</th>\n",
       "      <th>0</th>\n",
       "      <th>4s</th>\n",
       "      <th>6s</th>\n",
       "      <th>Unnamed: 15</th>\n",
       "    </tr>\n",
       "  </thead>\n",
       "  <tbody>\n",
       "    <tr>\n",
       "      <th>0</th>\n",
       "      <td>R Ashwin</td>\n",
       "      <td>2015-2022</td>\n",
       "      <td>25</td>\n",
       "      <td>12</td>\n",
       "      <td>6</td>\n",
       "      <td>66</td>\n",
       "      <td>16*</td>\n",
       "      <td>11.00</td>\n",
       "      <td>103</td>\n",
       "      <td>64.07</td>\n",
       "      <td>0</td>\n",
       "      <td>0</td>\n",
       "      <td>1</td>\n",
       "      <td>0</td>\n",
       "      <td>1</td>\n",
       "      <td>NaN</td>\n",
       "    </tr>\n",
       "    <tr>\n",
       "      <th>1</th>\n",
       "      <td>S Dhawan</td>\n",
       "      <td>2015-2022</td>\n",
       "      <td>97</td>\n",
       "      <td>94</td>\n",
       "      <td>5</td>\n",
       "      <td>4059</td>\n",
       "      <td>143</td>\n",
       "      <td>45.60</td>\n",
       "      <td>4257</td>\n",
       "      <td>95.34</td>\n",
       "      <td>11</td>\n",
       "      <td>22</td>\n",
       "      <td>3</td>\n",
       "      <td>523</td>\n",
       "      <td>48</td>\n",
       "      <td>NaN</td>\n",
       "    </tr>\n",
       "    <tr>\n",
       "      <th>2</th>\n",
       "      <td>MS Dhoni</td>\n",
       "      <td>2015-2019</td>\n",
       "      <td>100</td>\n",
       "      <td>78</td>\n",
       "      <td>20</td>\n",
       "      <td>2581</td>\n",
       "      <td>134</td>\n",
       "      <td>44.50</td>\n",
       "      <td>3128</td>\n",
       "      <td>82.51</td>\n",
       "      <td>1</td>\n",
       "      <td>17</td>\n",
       "      <td>3</td>\n",
       "      <td>189</td>\n",
       "      <td>52</td>\n",
       "      <td>NaN</td>\n",
       "    </tr>\n",
       "    <tr>\n",
       "      <th>3</th>\n",
       "      <td>V Kohli</td>\n",
       "      <td>2015-2022</td>\n",
       "      <td>109</td>\n",
       "      <td>107</td>\n",
       "      <td>19</td>\n",
       "      <td>5961</td>\n",
       "      <td>160*</td>\n",
       "      <td>67.73</td>\n",
       "      <td>6202</td>\n",
       "      <td>96.11</td>\n",
       "      <td>22</td>\n",
       "      <td>29</td>\n",
       "      <td>3</td>\n",
       "      <td>543</td>\n",
       "      <td>65</td>\n",
       "      <td>NaN</td>\n",
       "    </tr>\n",
       "    <tr>\n",
       "      <th>4</th>\n",
       "      <td>B Kumar</td>\n",
       "      <td>2015-2022</td>\n",
       "      <td>78</td>\n",
       "      <td>34</td>\n",
       "      <td>11</td>\n",
       "      <td>392</td>\n",
       "      <td>53*</td>\n",
       "      <td>17.04</td>\n",
       "      <td>542</td>\n",
       "      <td>72.32</td>\n",
       "      <td>0</td>\n",
       "      <td>1</td>\n",
       "      <td>4</td>\n",
       "      <td>30</td>\n",
       "      <td>7</td>\n",
       "      <td>NaN</td>\n",
       "    </tr>\n",
       "  </tbody>\n",
       "</table>\n",
       "</div>"
      ],
      "text/plain": [
       "     Player       Span  Mat Inns  NO  Runs    HS    Ave    BF     SR 100  50  \\\n",
       "0  R Ashwin  2015-2022   25   12   6    66   16*  11.00   103  64.07   0   0   \n",
       "1  S Dhawan  2015-2022   97   94   5  4059   143  45.60  4257  95.34  11  22   \n",
       "2  MS Dhoni  2015-2019  100   78  20  2581   134  44.50  3128  82.51   1  17   \n",
       "3   V Kohli  2015-2022  109  107  19  5961  160*  67.73  6202  96.11  22  29   \n",
       "4   B Kumar  2015-2022   78   34  11   392   53*  17.04   542  72.32   0   1   \n",
       "\n",
       "   0   4s  6s  Unnamed: 15  \n",
       "0  1    0   1          NaN  \n",
       "1  3  523  48          NaN  \n",
       "2  3  189  52          NaN  \n",
       "3  3  543  65          NaN  \n",
       "4  4   30   7          NaN  "
      ]
     },
     "execution_count": 1,
     "metadata": {},
     "output_type": "execute_result"
    }
   ],
   "source": [
    "import pandas as pd\n",
    "\n",
    "# For overall ODI Batting records:\n",
    "ODI_Bat_Overall=pd.read_html(\"https://stats.espncricinfo.com/ci/engine/stats/index.html?class=2;filter=advanced;orderby=start;size=200;spanmin1=01+Jan+2015;spanval1=span;team=6;template=results;type=batting\")[2-]\n",
    "ODI_Bat_Overall.head()\n",
    "#ODI_Bat_Overall.to_csv('E:\\CRICELEVEN\\Cricinfo Scrapped Data\\ODI\\Batting Records\\Overall\\ODI_Batting_Overall.csv')"
   ]
  },
  {
   "cell_type": "markdown",
   "id": "a652b19b",
   "metadata": {},
   "source": [
    "### 2) Indivisual players batting record"
   ]
  },
  {
   "cell_type": "code",
   "execution_count": 20,
   "id": "a8ce5645",
   "metadata": {},
   "outputs": [],
   "source": [
    "import pandas as pd\n",
    "import requests\n",
    "from bs4 import BeautifulSoup\n",
    "import os\n",
    "import re\n",
    " \n",
    "urls = \"https://stats.espncricinfo.com/ci/engine/stats/index.html?class=2;filter=advanced;orderby=start;size=200;spanmin1=01+Jan+2015;spanval1=span;team=6;template=results;type=batting\"\n",
    "grab = requests.get(urls)\n",
    "soup = BeautifulSoup(grab.text, 'html.parser')\n",
    " \n",
    "# opening a file in write mode\n",
    "f = open(\"ODI_scrap_file_1.txt\", \"w\")\n",
    "\n",
    "for link in soup.find_all(\"a\"):\n",
    "    data = link.get('href')\n",
    "    f.write(data)\n",
    "    f.write(\"\\n\")\n",
    "f.close()\n",
    "\n",
    "dataLog = []\n",
    "with open('ODI_scrap_file_1.txt', 'rt') as f:\n",
    "    data = f.readlines()\n",
    "for line in data:\n",
    "    if 'view=innings' in line:\n",
    "        dataLog.append(line)\n",
    "        \n",
    "with open('ODI_Bat_links.txt', 'w') as f:\n",
    "    for line in dataLog:\n",
    "        f.write('https://stats.espncricinfo.com' + line )\n",
    "f.close\n",
    "\n",
    "file1 = open('ODI_Bat_links.txt', 'r')\n",
    "Lines = file1.readlines()\n",
    "Links = Lines[1:]\n",
    "dir_name= 'E:\\CRICELEVEN\\Cricinfo Scrapped Data\\ODI\\Batting Records\\Indivisual Innings Records'\n",
    "\n",
    "for line in Links:\n",
    "    url= line\n",
    "    df = pd.read_html(url)[3]\n",
    "    PlayerID =re.search('player/(.+?).html', url).group(1)\n",
    "    df.to_csv(os.path.join(dir_name, '{}{}{}'.format(\"ODI_Player_\",PlayerID,\"_Innings_Details.csv\")))\n",
    "\n",
    "file1.close()"
   ]
  },
  {
   "cell_type": "code",
   "execution_count": 16,
   "id": "aa006be1",
   "metadata": {},
   "outputs": [],
   "source": [
    "file1.close()"
   ]
  },
  {
   "cell_type": "markdown",
   "id": "92343347",
   "metadata": {},
   "source": [
    "## Bowling Records"
   ]
  },
  {
   "cell_type": "markdown",
   "id": "17743370",
   "metadata": {},
   "source": [
    " ### 1) Overall Data"
   ]
  },
  {
   "cell_type": "code",
   "execution_count": 25,
   "id": "ee709eb0",
   "metadata": {},
   "outputs": [],
   "source": [
    "import pandas as pd\n",
    "\n",
    "# For overall ODI Bowling records:\n",
    "ODI_Bowl_Overall=pd.read_html(\"https://stats.espncricinfo.com/ci/engine/stats/index.html?class=2;filter=advanced;orderby=start;size=200;spanmin1=01+Jan+2015;spanval1=span;team=6;template=results;type=bowling\")[2]\n",
    "\n",
    "ODI_Bowl_Overall.to_csv('E:\\CRICELEVEN\\Cricinfo Scrapped Data\\ODI\\Bowling Records\\Overall\\ODI_Bowling_Overall.csv')"
   ]
  },
  {
   "cell_type": "markdown",
   "id": "5177d424",
   "metadata": {},
   "source": [
    "### 2) Indivisual players bowling record"
   ]
  },
  {
   "cell_type": "code",
   "execution_count": 26,
   "id": "f3247c42",
   "metadata": {},
   "outputs": [],
   "source": [
    "import pandas as pd\n",
    "import requests\n",
    "from bs4 import BeautifulSoup\n",
    "import os\n",
    "import re\n",
    " \n",
    "urls = \"https://stats.espncricinfo.com/ci/engine/stats/index.html?class=2;filter=advanced;orderby=start;size=200;spanmin1=01+Jan+2015;spanval1=span;team=6;template=results;type=bowling\"\n",
    "grab = requests.get(urls)\n",
    "soup = BeautifulSoup(grab.text, 'html.parser')\n",
    " \n",
    "# opening a file in write mode\n",
    "f = open(\"ODI_scrap_file_2.txt\", \"w\")\n",
    "\n",
    "for link in soup.find_all(\"a\"):\n",
    "    data = link.get('href')\n",
    "    f.write(data)\n",
    "    f.write(\"\\n\")\n",
    "f.close()\n",
    "\n",
    "dataLog = []\n",
    "with open('ODI_scrap_file_2.txt', 'rt') as f:\n",
    "    data = f.readlines()\n",
    "for line in data:\n",
    "    if 'view=innings' in line:\n",
    "        dataLog.append(line)\n",
    "        \n",
    "with open('ODI_Bowl_links.txt', 'w') as f:\n",
    "    for line in dataLog:\n",
    "        f.write('https://stats.espncricinfo.com' + line )\n",
    "f.close\n",
    "\n",
    "file1 = open('ODI_Bowl_links.txt', 'r')\n",
    "Lines = file1.readlines()\n",
    "Links = Lines[1:]\n",
    "dir_name= 'E:\\CRICELEVEN\\Cricinfo Scrapped Data\\ODI\\Bowling Records\\Indivisual Innings Records'\n",
    "\n",
    "for line in Links:\n",
    "    url= line\n",
    "    df = pd.read_html(url)[3]\n",
    "    PlayerID =re.search('player/(.+?).html', url).group(1)\n",
    "    df.to_csv(os.path.join(dir_name, '{}{}{}'.format(\"ODI_Player_\",PlayerID,\"_Bowling_Stats.csv\")))\n",
    "\n",
    "file1.close()"
   ]
  },
  {
   "cell_type": "markdown",
   "id": "66c3ebb1",
   "metadata": {},
   "source": [
    "## All-round Records"
   ]
  },
  {
   "cell_type": "markdown",
   "id": "414406a0",
   "metadata": {},
   "source": [
    " ### 1) Overall Data"
   ]
  },
  {
   "cell_type": "code",
   "execution_count": 28,
   "id": "299c6b6d",
   "metadata": {},
   "outputs": [],
   "source": [
    "import pandas as pd\n",
    "\n",
    "# For overall ODI All-rounder records:\n",
    "ODI_Allround_Overall=pd.read_html(\"https://stats.espncricinfo.com/ci/engine/stats/index.html?class=2;filter=advanced;orderby=start;size=200;spanmin1=01+Jan+2015;spanval1=span;team=6;template=results;type=allround\")[2]\n",
    "\n",
    "ODI_Allround_Overall.to_csv('E:\\CRICELEVEN\\Cricinfo Scrapped Data\\ODI\\All-round Records\\Overall\\ODI_Allround_Overall.csv')"
   ]
  },
  {
   "cell_type": "markdown",
   "id": "19e7b88a",
   "metadata": {},
   "source": [
    "### 2) Indivisual players record"
   ]
  },
  {
   "cell_type": "code",
   "execution_count": 29,
   "id": "567bc2a4",
   "metadata": {},
   "outputs": [],
   "source": [
    "import pandas as pd\n",
    "import requests\n",
    "from bs4 import BeautifulSoup\n",
    "import os\n",
    "import re\n",
    " \n",
    "urls = \"https://stats.espncricinfo.com/ci/engine/stats/index.html?class=2;filter=advanced;orderby=start;size=200;spanmin1=01+Jan+2015;spanval1=span;team=6;template=results;type=allround\"\n",
    "grab = requests.get(urls)\n",
    "soup = BeautifulSoup(grab.text, 'html.parser')\n",
    " \n",
    "# opening a file in write mode\n",
    "f = open(\"ODI_scrap_file_3.txt\", \"w\")\n",
    "\n",
    "for link in soup.find_all(\"a\"):\n",
    "    data = link.get('href')\n",
    "    f.write(data)\n",
    "    f.write(\"\\n\")\n",
    "f.close()\n",
    "\n",
    "dataLog = []\n",
    "with open('ODI_scrap_file_3.txt', 'rt') as f:\n",
    "    data = f.readlines()\n",
    "for line in data:\n",
    "    if 'view=innings' in line:\n",
    "        dataLog.append(line)\n",
    "        \n",
    "with open('ODI_Allr_links.txt', 'w') as f:\n",
    "    for line in dataLog:\n",
    "        f.write('https://stats.espncricinfo.com' + line )\n",
    "f.close\n",
    "\n",
    "file1 = open('ODI_Allr_links.txt', 'r')\n",
    "Lines = file1.readlines()\n",
    "Links = Lines[1:]\n",
    "dir_name= 'E:\\CRICELEVEN\\Cricinfo Scrapped Data\\ODI\\All-round Records\\Indivisual Innings Records'\n",
    "\n",
    "for line in Links:\n",
    "    url= line\n",
    "    df = pd.read_html(url)[3]\n",
    "    PlayerID =re.search('player/(.+?).html', url).group(1)\n",
    "    df.to_csv(os.path.join(dir_name, '{}{}{}'.format(\"ODI_Player_\",PlayerID,\"_All-Round_Stats.csv\")))\n",
    "\n",
    "file1.close()"
   ]
  },
  {
   "cell_type": "markdown",
   "id": "b5162285",
   "metadata": {},
   "source": [
    "## Team Records"
   ]
  },
  {
   "cell_type": "markdown",
   "id": "e9140512",
   "metadata": {},
   "source": [
    " ### 1) By batting total"
   ]
  },
  {
   "cell_type": "code",
   "execution_count": 34,
   "id": "6653b42e",
   "metadata": {},
   "outputs": [],
   "source": [
    "import pandas as pd\n",
    "\n",
    "# For ODI team stats when team batting:\n",
    "ODI_Team_Batting=pd.read_html(\"https://stats.espncricinfo.com/ci/engine/stats/index.html?class=2;filter=advanced;orderby=start;size=200;spanmin1=01+Jan+2015;spanval1=span;team=6;template=results;type=team;view=innings\")[2]\n",
    "\n",
    "ODI_Team_Batting.to_csv('E:\\CRICELEVEN\\Cricinfo Scrapped Data\\ODI\\TEAM\\Records by Batting Total\\ODI_Team_Batting.csv')"
   ]
  },
  {
   "cell_type": "markdown",
   "id": "b7f3164d",
   "metadata": {},
   "source": [
    "### 2) By bowling total"
   ]
  },
  {
   "cell_type": "code",
   "execution_count": 36,
   "id": "01917dc7",
   "metadata": {},
   "outputs": [],
   "source": [
    "import pandas as pd\n",
    "\n",
    "# For ODI team stats when team bowling:\n",
    "ODI_Team_Bowling=pd.read_html(\"https://stats.espncricinfo.com/ci/engine/stats/index.html?class=2;filter=advanced;orderby=start;size=200;spanmin1=01+Jan+2015;spanval1=span;team=6;team_view=bowl;template=results;type=team;view=innings\")[2]\n",
    "\n",
    "ODI_Team_Bowling.to_csv('E:\\CRICELEVEN\\Cricinfo Scrapped Data\\ODI\\TEAM\\Records by Bowling Total\\ODI_Team_Bowling.csv')"
   ]
  },
  {
   "cell_type": "markdown",
   "id": "63af44f2",
   "metadata": {},
   "source": [
    "# T20I "
   ]
  },
  {
   "cell_type": "markdown",
   "id": "91bea800",
   "metadata": {},
   "source": [
    "## Batting Records"
   ]
  },
  {
   "cell_type": "markdown",
   "id": "61d78afc",
   "metadata": {},
   "source": [
    " ### 1) Overall Data"
   ]
  },
  {
   "cell_type": "code",
   "execution_count": 38,
   "id": "630db660",
   "metadata": {},
   "outputs": [],
   "source": [
    "import pandas as pd\n",
    "\n",
    "# For overall T20I Batting records:\n",
    "T20I_Bat_Overall=pd.read_html(\"https://stats.espncricinfo.com/ci/engine/stats/index.html?class=3;filter=advanced;orderby=start;size=200;spanmin1=01+Jan+2015;spanval1=span;team=6;template=results;type=batting\")[2]\n",
    "\n",
    "T20I_Bat_Overall.to_csv('E:\\CRICELEVEN\\Cricinfo Scrapped Data\\T20I\\Batting Records\\Overall\\T20I_Batting_Overall.csv')"
   ]
  },
  {
   "cell_type": "code",
   "execution_count": null,
   "id": "2dd1ef60",
   "metadata": {},
   "outputs": [],
   "source": [
    "E:\\CRICELEVEN\\Cricinfo Scrapped Data\\T20I\\Batting Records\\Indivisual Innings Records"
   ]
  },
  {
   "cell_type": "markdown",
   "id": "30cf04e9",
   "metadata": {},
   "source": [
    "### 2) Indivisual players batting record"
   ]
  },
  {
   "cell_type": "code",
   "execution_count": 40,
   "id": "c71ae270",
   "metadata": {},
   "outputs": [],
   "source": [
    "import pandas as pd\n",
    "import requests\n",
    "from bs4 import BeautifulSoup\n",
    "import os\n",
    "import re\n",
    " \n",
    "urls = \"https://stats.espncricinfo.com/ci/engine/stats/index.html?class=3;filter=advanced;orderby=start;size=200;spanmin1=01+Jan+2015;spanval1=span;team=6;template=results;type=batting\"\n",
    "grab = requests.get(urls)\n",
    "soup = BeautifulSoup(grab.text, 'html.parser')\n",
    " \n",
    "# opening a file in write mode\n",
    "f = open(\"T20I_scrap_file_1.txt\", \"w\")\n",
    "\n",
    "for link in soup.find_all(\"a\"):\n",
    "    data = link.get('href')\n",
    "    f.write(data)\n",
    "    f.write(\"\\n\")\n",
    "f.close()\n",
    "\n",
    "dataLog = []\n",
    "with open('T20I_scrap_file_1.txt', 'rt') as f:\n",
    "    data = f.readlines()\n",
    "for line in data:\n",
    "    if 'view=innings' in line:\n",
    "        dataLog.append(line)\n",
    "        \n",
    "with open('T20I_Bat_links.txt', 'w') as f:\n",
    "    for line in dataLog:\n",
    "        f.write('https://stats.espncricinfo.com' + line )\n",
    "f.close\n",
    "\n",
    "file1 = open('T20I_Bat_links.txt', 'r')\n",
    "Lines = file1.readlines()\n",
    "Links = Lines[1:]\n",
    "dir_name= 'E:\\CRICELEVEN\\Cricinfo Scrapped Data\\T20I\\Batting Records\\Indivisual Innings Records'\n",
    "\n",
    "for line in Links:\n",
    "    url= line\n",
    "    df = pd.read_html(url)[3]\n",
    "    PlayerID =re.search('player/(.+?).html', url).group(1)\n",
    "    df.to_csv(os.path.join(dir_name, '{}{}{}'.format(\"T20I_Player_\",PlayerID,\"_Innings_Details.csv\")))\n",
    "\n",
    "file1.close()"
   ]
  },
  {
   "cell_type": "markdown",
   "id": "95519ab7",
   "metadata": {},
   "source": [
    "## Bowling Records"
   ]
  },
  {
   "cell_type": "markdown",
   "id": "450e0df9",
   "metadata": {},
   "source": [
    " ### 1) Overall Data"
   ]
  },
  {
   "cell_type": "code",
   "execution_count": 41,
   "id": "609d08fe",
   "metadata": {},
   "outputs": [],
   "source": [
    "import pandas as pd\n",
    "\n",
    "# For overall T20I Bowling records:\n",
    "T20I_Bowl_Overall=pd.read_html(\"https://stats.espncricinfo.com/ci/engine/stats/index.html?class=3;filter=advanced;orderby=start;size=200;spanmin1=01+Jan+2015;spanval1=span;team=6;template=results;type=bowling\")[2]\n",
    "\n",
    "T20I_Bowl_Overall.to_csv('E:\\CRICELEVEN\\Cricinfo Scrapped Data\\T20I\\Bowling Records\\Overall\\T20I_Bowling_Overall.csv')"
   ]
  },
  {
   "cell_type": "markdown",
   "id": "644a2f53",
   "metadata": {},
   "source": [
    "### 2) Indivisual players bowling record"
   ]
  },
  {
   "cell_type": "code",
   "execution_count": 44,
   "id": "63cf23b6",
   "metadata": {},
   "outputs": [],
   "source": [
    "import pandas as pd\n",
    "import requests\n",
    "from bs4 import BeautifulSoup\n",
    "import os\n",
    "import re\n",
    " \n",
    "urls = \"https://stats.espncricinfo.com/ci/engine/stats/index.html?class=3;filter=advanced;orderby=start;size=200;spanmin1=01+Jan+2015;spanval1=span;team=6;template=results;type=bowling\"\n",
    "grab = requests.get(urls)\n",
    "soup = BeautifulSoup(grab.text, 'html.parser')\n",
    " \n",
    "# opening a file in write mode\n",
    "f = open(\"T20I_scrap_file_2.txt\", \"w\")\n",
    "\n",
    "for link in soup.find_all(\"a\"):\n",
    "    data = link.get('href')\n",
    "    f.write(data)\n",
    "    f.write(\"\\n\")\n",
    "f.close()\n",
    "\n",
    "dataLog = []\n",
    "with open('T20I_scrap_file_2.txt', 'rt') as f:\n",
    "    data = f.readlines()\n",
    "for line in data:\n",
    "    if 'view=innings' in line:\n",
    "        dataLog.append(line)\n",
    "        \n",
    "with open('T20I_Bowl_links.txt', 'w') as f:\n",
    "    for line in dataLog:\n",
    "        f.write('https://stats.espncricinfo.com' + line )\n",
    "f.close\n",
    "\n",
    "file1 = open('T20I_Bowl_links.txt', 'r')\n",
    "Lines = file1.readlines()\n",
    "Links = Lines[1:]\n",
    "dir_name= 'E:\\CRICELEVEN\\Cricinfo Scrapped Data\\T20I\\Bowling Records\\Indivisual Innings Records'\n",
    "\n",
    "for line in Links:\n",
    "    url= line\n",
    "    df = pd.read_html(url)[3]\n",
    "    PlayerID =re.search('player/(.+?).html', url).group(1)\n",
    "    df.to_csv(os.path.join(dir_name, '{}{}{}'.format(\"T20I_Player_\",PlayerID,\"_Bowling_Stats.csv\")))\n",
    "\n",
    "file1.close()"
   ]
  },
  {
   "cell_type": "markdown",
   "id": "045d3215",
   "metadata": {},
   "source": [
    "## All-round Records"
   ]
  },
  {
   "cell_type": "markdown",
   "id": "4b557d9e",
   "metadata": {},
   "source": [
    " ### 1) Overall Data"
   ]
  },
  {
   "cell_type": "code",
   "execution_count": 45,
   "id": "b67ee766",
   "metadata": {},
   "outputs": [],
   "source": [
    "import pandas as pd\n",
    "\n",
    "# For overall T20I All-rounder records:\n",
    "T20I_Allround_Overall=pd.read_html(\"https://stats.espncricinfo.com/ci/engine/stats/index.html?class=3;filter=advanced;orderby=start;size=200;spanmin1=01+Jan+2015;spanval1=span;team=6;template=results;type=allround\")[2]\n",
    "\n",
    "T20I_Allround_Overall.to_csv('E:\\CRICELEVEN\\Cricinfo Scrapped Data\\T20I\\All-round Records\\Overall\\T20I_Allround_Overall.csv')"
   ]
  },
  {
   "cell_type": "markdown",
   "id": "5204435e",
   "metadata": {},
   "source": [
    "### 2) Indivisual players record"
   ]
  },
  {
   "cell_type": "code",
   "execution_count": 47,
   "id": "a90f13b8",
   "metadata": {},
   "outputs": [],
   "source": [
    "import pandas as pd\n",
    "import requests\n",
    "from bs4 import BeautifulSoup\n",
    "import os\n",
    "import re\n",
    " \n",
    "urls = \"https://stats.espncricinfo.com/ci/engine/stats/index.html?class=3;filter=advanced;orderby=start;size=200;spanmin1=01+Jan+2015;spanval1=span;team=6;template=results;type=allround\"\n",
    "grab = requests.get(urls)\n",
    "soup = BeautifulSoup(grab.text, 'html.parser')\n",
    " \n",
    "# opening a file in write mode\n",
    "f = open(\"T20I_scrap_file_3.txt\", \"w\")\n",
    "\n",
    "for link in soup.find_all(\"a\"):\n",
    "    data = link.get('href')\n",
    "    f.write(data)\n",
    "    f.write(\"\\n\")\n",
    "f.close()\n",
    "\n",
    "dataLog = []\n",
    "with open('T20I_scrap_file_3.txt', 'rt') as f:\n",
    "    data = f.readlines()\n",
    "for line in data:\n",
    "    if 'view=innings' in line:\n",
    "        dataLog.append(line)\n",
    "        \n",
    "with open('T20I_Allr_links.txt', 'w') as f:\n",
    "    for line in dataLog:\n",
    "        f.write('https://stats.espncricinfo.com' + line )\n",
    "f.close\n",
    "\n",
    "file1 = open('T20I_Allr_links.txt', 'r')\n",
    "Lines = file1.readlines()\n",
    "Links = Lines[1:]\n",
    "dir_name= 'E:\\CRICELEVEN\\Cricinfo Scrapped Data\\T20I\\All-round Records\\Indivisual Innings Records'\n",
    "\n",
    "for line in Links:\n",
    "    url= line\n",
    "    df = pd.read_html(url)[3]\n",
    "    PlayerID =re.search('player/(.+?).html', url).group(1)\n",
    "    df.to_csv(os.path.join(dir_name, '{}{}{}'.format(\"T20I_Player_\",PlayerID,\"_All-Round_Stats.csv\")))\n",
    "\n",
    "file1.close()"
   ]
  },
  {
   "cell_type": "markdown",
   "id": "81db727c",
   "metadata": {},
   "source": [
    "## Team Records"
   ]
  },
  {
   "cell_type": "markdown",
   "id": "379d50d1",
   "metadata": {},
   "source": [
    " ### 1) By batting total"
   ]
  },
  {
   "cell_type": "code",
   "execution_count": 48,
   "id": "2f80ae86",
   "metadata": {},
   "outputs": [],
   "source": [
    "import pandas as pd\n",
    "\n",
    "# For T20I team stats when team batting:\n",
    "T20I_Team_Batting=pd.read_html(\"https://stats.espncricinfo.com/ci/engine/stats/index.html?class=3;filter=advanced;orderby=start;size=200;spanmin1=01+Jan+2015;spanval1=span;team=6;template=results;type=team;view=innings\")[2]\n",
    "\n",
    "T20I_Team_Batting.to_csv('E:\\CRICELEVEN\\Cricinfo Scrapped Data\\T20I\\TEAM\\Records by Batting Total\\T20I_Team_Batting.csv')"
   ]
  },
  {
   "cell_type": "markdown",
   "id": "ace703e6",
   "metadata": {},
   "source": [
    "### 2) By bowling total"
   ]
  },
  {
   "cell_type": "code",
   "execution_count": 49,
   "id": "e3e2a829",
   "metadata": {},
   "outputs": [],
   "source": [
    "import pandas as pd\n",
    "\n",
    "# For T20I team stats when team bowling:\n",
    "T20I_Team_Bowling=pd.read_html(\"https://stats.espncricinfo.com/ci/engine/stats/index.html?class=3;filter=advanced;orderby=start;size=200;spanmin1=01+Jan+2015;spanval1=span;team=6;team_view=bowl;template=results;type=team;view=innings\")[2]\n",
    "\n",
    "T20I_Team_Bowling.to_csv('E:\\CRICELEVEN\\Cricinfo Scrapped Data\\T20I\\TEAM\\Records by Bowling Total\\T20I_Team_Bowling.csv')"
   ]
  },
  {
   "cell_type": "markdown",
   "id": "1d08628f",
   "metadata": {},
   "source": [
    "# Test "
   ]
  },
  {
   "cell_type": "markdown",
   "id": "1de485bc",
   "metadata": {},
   "source": [
    "## Batting Records"
   ]
  },
  {
   "cell_type": "markdown",
   "id": "a4131a9f",
   "metadata": {},
   "source": [
    " ### 1) Overall Data"
   ]
  },
  {
   "cell_type": "code",
   "execution_count": 50,
   "id": "7c8bd168",
   "metadata": {},
   "outputs": [],
   "source": [
    "import pandas as pd\n",
    "\n",
    "# For overall Test Batting records:\n",
    "TEST_Bat_Overall=pd.read_html(\"https://stats.espncricinfo.com/ci/engine/stats/index.html?class=1;filter=advanced;orderby=start;size=200;spanmin1=01+Jan+2015;spanval1=span;team=6;template=results;type=batting\")[2]\n",
    "\n",
    "TEST_Bat_Overall.to_csv('E:\\CRICELEVEN\\Cricinfo Scrapped Data\\TEST\\Batting Records\\Overall\\TEST_Batting_Overall.csv')"
   ]
  },
  {
   "cell_type": "markdown",
   "id": "5874915a",
   "metadata": {},
   "source": [
    "### 2) Indivisual players batting record"
   ]
  },
  {
   "cell_type": "code",
   "execution_count": 51,
   "id": "bfb9e955",
   "metadata": {},
   "outputs": [],
   "source": [
    "import pandas as pd\n",
    "import requests\n",
    "from bs4 import BeautifulSoup\n",
    "import os\n",
    "import re\n",
    " \n",
    "urls = \"https://stats.espncricinfo.com/ci/engine/stats/index.html?class=1;filter=advanced;orderby=start;size=200;spanmin1=01+Jan+2015;spanval1=span;team=6;template=results;type=batting\"\n",
    "grab = requests.get(urls)\n",
    "soup = BeautifulSoup(grab.text, 'html.parser')\n",
    " \n",
    "# opening a file in write mode\n",
    "f = open(\"TEST_scrap_file_1.txt\", \"w\")\n",
    "\n",
    "for link in soup.find_all(\"a\"):\n",
    "    data = link.get('href')\n",
    "    f.write(data)\n",
    "    f.write(\"\\n\")\n",
    "f.close()\n",
    "\n",
    "dataLog = []\n",
    "with open('TEST_scrap_file_1.txt', 'rt') as f:\n",
    "    data = f.readlines()\n",
    "for line in data:\n",
    "    if 'view=innings' in line:\n",
    "        dataLog.append(line)\n",
    "        \n",
    "with open('TEST_Bat_links.txt', 'w') as f:\n",
    "    for line in dataLog:\n",
    "        f.write('https://stats.espncricinfo.com' + line )\n",
    "f.close\n",
    "\n",
    "file1 = open('TEST_Bat_links.txt', 'r')\n",
    "Lines = file1.readlines()\n",
    "Links = Lines[1:]\n",
    "dir_name= 'E:\\CRICELEVEN\\Cricinfo Scrapped Data\\TEST\\Batting Records\\Indivisual Innings Records'\n",
    "\n",
    "for line in Links:\n",
    "    url= line\n",
    "    df = pd.read_html(url)[3]\n",
    "    PlayerID =re.search('player/(.+?).html', url).group(1)\n",
    "    df.to_csv(os.path.join(dir_name, '{}{}{}'.format(\"TEST_Player_\",PlayerID,\"_Innings_Details.csv\")))\n",
    "\n",
    "file1.close()"
   ]
  },
  {
   "cell_type": "markdown",
   "id": "8d57bcbf",
   "metadata": {},
   "source": [
    "## Bowling Records"
   ]
  },
  {
   "cell_type": "markdown",
   "id": "1841d6c8",
   "metadata": {},
   "source": [
    " ### 1) Overall Data"
   ]
  },
  {
   "cell_type": "code",
   "execution_count": 52,
   "id": "31b7e6aa",
   "metadata": {},
   "outputs": [],
   "source": [
    "import pandas as pd\n",
    "\n",
    "# For overall Test Bowling records:\n",
    "TEST_Bowl_Overall=pd.read_html(\"https://stats.espncricinfo.com/ci/engine/stats/index.html?class=1;filter=advanced;orderby=start;size=200;spanmin1=01+Jan+2015;spanval1=span;team=6;template=results;type=bowling\")[2]\n",
    "\n",
    "TEST_Bowl_Overall.to_csv('E:\\CRICELEVEN\\Cricinfo Scrapped Data\\TEST\\Bowling Records\\Overall\\TEST_Bowling_Overall.csv')"
   ]
  },
  {
   "cell_type": "markdown",
   "id": "f2999750",
   "metadata": {},
   "source": [
    "### 2) Indivisual players bowling record"
   ]
  },
  {
   "cell_type": "code",
   "execution_count": 53,
   "id": "d62ff1a3",
   "metadata": {},
   "outputs": [],
   "source": [
    "import pandas as pd\n",
    "import requests\n",
    "from bs4 import BeautifulSoup\n",
    "import os\n",
    "import re\n",
    " \n",
    "urls = \"https://stats.espncricinfo.com/ci/engine/stats/index.html?class=1;filter=advanced;orderby=start;size=200;spanmin1=01+Jan+2015;spanval1=span;team=6;template=results;type=bowling\"\n",
    "grab = requests.get(urls)\n",
    "soup = BeautifulSoup(grab.text, 'html.parser')\n",
    " \n",
    "# opening a file in write mode\n",
    "f = open(\"TEST_scrap_file_2.txt\", \"w\")\n",
    "\n",
    "for link in soup.find_all(\"a\"):\n",
    "    data = link.get('href')\n",
    "    f.write(data)\n",
    "    f.write(\"\\n\")\n",
    "f.close()\n",
    "\n",
    "dataLog = []\n",
    "with open('TEST_scrap_file_2.txt', 'rt') as f:\n",
    "    data = f.readlines()\n",
    "for line in data:\n",
    "    if 'view=innings' in line:\n",
    "        dataLog.append(line)\n",
    "        \n",
    "with open('TEST_Bowl_links.txt', 'w') as f:\n",
    "    for line in dataLog:\n",
    "        f.write('https://stats.espncricinfo.com' + line )\n",
    "f.close\n",
    "\n",
    "file1 = open('TEST_Bowl_links.txt', 'r')\n",
    "Lines = file1.readlines()\n",
    "Links = Lines[1:]\n",
    "dir_name= 'E:\\CRICELEVEN\\Cricinfo Scrapped Data\\TEST\\Bowling Records\\Indivisual Innings Records'\n",
    "\n",
    "for line in Links:\n",
    "    url= line\n",
    "    df = pd.read_html(url)[3]\n",
    "    PlayerID =re.search('player/(.+?).html', url).group(1)\n",
    "    df.to_csv(os.path.join(dir_name, '{}{}{}'.format(\"TEST_Player_\",PlayerID,\"_Bowling_Stats.csv\")))\n",
    "\n",
    "file1.close()"
   ]
  },
  {
   "cell_type": "markdown",
   "id": "b4c52920",
   "metadata": {},
   "source": [
    "## All-round Records"
   ]
  },
  {
   "cell_type": "markdown",
   "id": "9cac8712",
   "metadata": {},
   "source": [
    " ### 1) Overall Data"
   ]
  },
  {
   "cell_type": "code",
   "execution_count": 54,
   "id": "a25add25",
   "metadata": {},
   "outputs": [],
   "source": [
    "import pandas as pd\n",
    "\n",
    "# For overall TEST All-rounder records:\n",
    "TEST_Allround_Overall=pd.read_html(\"https://stats.espncricinfo.com/ci/engine/stats/index.html?class=1;filter=advanced;orderby=start;size=200;spanmin1=01+Jan+2015;spanval1=span;team=6;template=results;type=allround\")[2]\n",
    "\n",
    "TEST_Allround_Overall.to_csv('E:\\CRICELEVEN\\Cricinfo Scrapped Data\\TEST\\All-round Records\\Overall\\TEST_Allround_Overall.csv')"
   ]
  },
  {
   "cell_type": "markdown",
   "id": "ca2edf5b",
   "metadata": {},
   "source": [
    "### 2) Indivisual players record"
   ]
  },
  {
   "cell_type": "code",
   "execution_count": 55,
   "id": "5d974a92",
   "metadata": {},
   "outputs": [],
   "source": [
    "import pandas as pd\n",
    "import requests\n",
    "from bs4 import BeautifulSoup\n",
    "import os\n",
    "import re\n",
    " \n",
    "urls = \"https://stats.espncricinfo.com/ci/engine/stats/index.html?class=1;filter=advanced;orderby=start;size=200;spanmin1=01+Jan+2015;spanval1=span;team=6;template=results;type=allround\"\n",
    "grab = requests.get(urls)\n",
    "soup = BeautifulSoup(grab.text, 'html.parser')\n",
    " \n",
    "# opening a file in write mode\n",
    "f = open(\"TEST_scrap_file_3.txt\", \"w\")\n",
    "\n",
    "for link in soup.find_all(\"a\"):\n",
    "    data = link.get('href')\n",
    "    f.write(data)\n",
    "    f.write(\"\\n\")\n",
    "f.close()\n",
    "\n",
    "dataLog = []\n",
    "with open('TEST_scrap_file_3.txt', 'rt') as f:\n",
    "    data = f.readlines()\n",
    "for line in data:\n",
    "    if 'view=innings' in line:\n",
    "        dataLog.append(line)\n",
    "        \n",
    "with open('TEST_Allr_links.txt', 'w') as f:\n",
    "    for line in dataLog:\n",
    "        f.write('https://stats.espncricinfo.com' + line )\n",
    "f.close\n",
    "\n",
    "file1 = open('TEST_Allr_links.txt', 'r')\n",
    "Lines = file1.readlines()\n",
    "Links = Lines[1:]\n",
    "dir_name= 'E:\\CRICELEVEN\\Cricinfo Scrapped Data\\TEST\\All-round Records\\Indivisual Innings Records'\n",
    "\n",
    "for line in Links:\n",
    "    url= line\n",
    "    df = pd.read_html(url)[3]\n",
    "    PlayerID =re.search('player/(.+?).html', url).group(1)\n",
    "    df.to_csv(os.path.join(dir_name, '{}{}{}'.format(\"TEST_Player_\",PlayerID,\"_All-Round_Stats.csv\")))\n",
    "\n",
    "file1.close()"
   ]
  },
  {
   "cell_type": "markdown",
   "id": "204529c8",
   "metadata": {},
   "source": [
    "## Team Records"
   ]
  },
  {
   "cell_type": "markdown",
   "id": "16d461dd",
   "metadata": {},
   "source": [
    " ### 1) By batting total"
   ]
  },
  {
   "cell_type": "code",
   "execution_count": 56,
   "id": "61f83c29",
   "metadata": {},
   "outputs": [],
   "source": [
    "import pandas as pd\n",
    "\n",
    "# For TEST team stats when team batting:\n",
    "TEST_Team_Batting=pd.read_html(\"https://stats.espncricinfo.com/ci/engine/stats/index.html?class=1;filter=advanced;orderby=start;size=200;spanmin1=01+Jan+2015;spanval1=span;team=6;template=results;type=team;view=innings\")[2]\n",
    "\n",
    "TEST_Team_Batting.to_csv('E:\\CRICELEVEN\\Cricinfo Scrapped Data\\TEST\\TEAM\\Records by Batting Total\\TEST_Team_Batting.csv')"
   ]
  },
  {
   "cell_type": "markdown",
   "id": "2ad40b6a",
   "metadata": {},
   "source": [
    "### 2) By bowling total"
   ]
  },
  {
   "cell_type": "code",
   "execution_count": 57,
   "id": "f95751a1",
   "metadata": {},
   "outputs": [],
   "source": [
    "import pandas as pd\n",
    "\n",
    "# For TEST team stats when team bowling:\n",
    "TEST_Team_Bowling=pd.read_html(\"https://stats.espncricinfo.com/ci/engine/stats/index.html?class=1;filter=advanced;orderby=start;size=200;spanmin1=01+Jan+2015;spanval1=span;team=6;team_view=bowl;template=results;type=team;view=innings\")[2]\n",
    "\n",
    "TEST_Team_Bowling.to_csv('E:\\CRICELEVEN\\Cricinfo Scrapped Data\\TEST\\TEAM\\Records by Bowling Total\\TEST_Team_Bowling.csv')"
   ]
  }
 ],
 "metadata": {
  "kernelspec": {
   "display_name": "Python 3",
   "language": "python",
   "name": "python3"
  },
  "language_info": {
   "codemirror_mode": {
    "name": "ipython",
    "version": 3
   },
   "file_extension": ".py",
   "mimetype": "text/x-python",
   "name": "python",
   "nbconvert_exporter": "python",
   "pygments_lexer": "ipython3",
   "version": "3.8.8"
  }
 },
 "nbformat": 4,
 "nbformat_minor": 5
}
